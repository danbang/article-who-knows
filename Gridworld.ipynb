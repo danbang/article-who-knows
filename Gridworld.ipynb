{
 "cells": [
  {
   "cell_type": "markdown",
   "metadata": {},
   "source": [
    "# SIMPLE GENERATOR FOR GRID WORLDS"
   ]
  },
  {
   "cell_type": "code",
   "execution_count": 70,
   "metadata": {},
   "outputs": [],
   "source": [
    "# DEFINE RELEVANT FUNCTIONS\n",
    "import numpy as np\n",
    "import matplotlib.pyplot as plt\n",
    "\n",
    "class Grid:\n",
    "    \"\"\" This class defines a grid environment with the relevant action\n",
    "    space and game mechanics \"\"\"\n",
    "    def __init__(self, s=10, g=1, start_p=1):\n",
    "        self.grid = self.get_grid(s)\n",
    "        self.size = s\n",
    "        self.actions = self.define_actions()\n",
    "        self.done = False\n",
    "    \n",
    "    def get_grid(self,s):\n",
    "        x = np.zeros([s,s])\n",
    "        goal = np.random.randint(0,s-1,2)\n",
    "        start = np.random.randint(0,s-1,2)\n",
    "        while any(goal==start):\n",
    "            goal = np.random.randint(0,s-1,2)\n",
    "        x[goal[0],goal[1]] = 1\n",
    "        self.goal = goal\n",
    "        x[start[0],start[1]] = -1\n",
    "        self.start = start\n",
    "        return x\n",
    "    \n",
    "    def reset(self):\n",
    "        self.play_pos = self.start\n",
    "        self.reward = 0\n",
    "        self.done = False\n",
    "    \n",
    "    def advance(self,action):\n",
    "        new_pos = self.play_pos + self.actions[action]\n",
    "        self.reward -= 1\n",
    "        if not self.bounce(new_pos):\n",
    "            self.play_pos = new_pos\n",
    "        # Check if goal reached\n",
    "        self.is_goal()\n",
    "        return self.get_observation()\n",
    "            \n",
    "    \n",
    "    def is_goal(self):\n",
    "        if self.play_pos[0] == self.goal[0] and self.play_pos[1] == self.goal[1]:\n",
    "            self.done = True\n",
    "    \n",
    "    def bounce(self,new_pos):   \n",
    "        if new_pos[0] > self.size-1 or new_pos[0] < 0:\n",
    "            return True\n",
    "        if new_pos[1] > self.size-1 or new_pos[1] < 0:\n",
    "            return True\n",
    "        return False\n",
    "        \n",
    "        \n",
    "    def define_actions(self):\n",
    "        return dict(\n",
    "            LEFT=[0,-1],\n",
    "            UP=[-1,0],\n",
    "            RIGHT=[0,1],\n",
    "            DOWN=[1,0],\n",
    "        )\n",
    "    \n",
    "    def get_successor(self,action):\n",
    "        new_pos = self.play_pos + self.actions[action]\n",
    "        if self.bounce(new_pos):\n",
    "            return self.play_pos\n",
    "        else:\n",
    "            return new_pos\n",
    "\n",
    "    def get_observation(self):\n",
    "        return self.play_pos[0] + (self.play_pos[1] * self.size) + 1\n",
    "    "
   ]
  },
  {
   "cell_type": "code",
   "execution_count": 72,
   "metadata": {},
   "outputs": [
    {
     "data": {
      "image/png": "[encoded data removed]",
      "text/plain": [
       "<matplotlib.figure.Figure at 0x76b5e48>"
      ]
     },
     "metadata": {},
     "output_type": "display_data"
    }
   ],
   "source": [
    "g = Grid(10)\n",
    "plt.imshow(g.grid)\n",
    "plt.show()"
   ]
  },
  {
   "cell_type": "code",
   "execution_count": 82,
   "metadata": {},
   "outputs": [],
   "source": [
    "# INITIALIZE\n",
    "Q = np.zeros([g.size**2,4])\n",
    "rlist = []\n",
    "lrate = 0.2\n",
    "y = 0.95\n",
    "eps = 0.1\n",
    "d = {0:\"DOWN\",1:\"LEFT\",2:\"RIGHT\",3:\"UP\"}\n",
    "n_episodes = 2000\n",
    "\n",
    "# RUN THIS OVER SOME EPISODES\n",
    "for i in range(n_episodes):\n",
    "    g.reset()\n",
    "    j = 0\n",
    "    # STOP AFTER 99 STEPS IF GOAL NOT FOUND\n",
    "    while j < 99:\n",
    "        j+=1\n",
    "        # Get current state\n",
    "        s = g.get_observation()\n",
    "        # Random or guided choice?\n",
    "        if np.random.rand() < eps:\n",
    "            a = np.random.randint(0,3)\n",
    "        else:\n",
    "            a = np.argmax(Q[s-1,:])\n",
    "        action = d[a]\n",
    "        # Take action\n",
    "        s1 = g.advance(action)\n",
    "        # Update Q values for next turn\n",
    "        Q[s-1,a] = Q[s-1,a] + lrate * (-1 + y*np.max(Q[s1-1,:] - Q[s-1,a]))\n",
    "        if g.done == True:\n",
    "            if np.mod(i,100) == 0:\n",
    "                eps = eps * 0.90\n",
    "            break\n",
    "    rlist.append(g.reward)"
   ]
  },
  {
   "cell_type": "code",
   "execution_count": 83,
   "metadata": {},
   "outputs": [
    {
     "data": {
      "image/png": "[encoded data removed]",
      "text/plain": [
       "<matplotlib.figure.Figure at 0x76353c8>"
      ]
     },
     "metadata": {},
     "output_type": "display_data"
    }
   ],
   "source": [
    "plt.plot(np.arange(0,n_episodes),rlist)\n",
    "plt.show()"
   ]
  },
  {
   "cell_type": "code",
   "execution_count": 75,
   "metadata": {},
   "outputs": [
    {
     "data": {
      "image/png": "[encoded data removed]",
      "text/plain": [
       "<matplotlib.figure.Figure at 0x76471d0>"
      ]
     },
     "metadata": {},
     "output_type": "display_data"
    }
   ],
   "source": [
    "plt.imshow(g.grid)\n",
    "plt.show()"
   ]
  },
  {
   "cell_type": "code",
   "execution_count": 84,
   "metadata": {},
   "outputs": [
    {
     "data": {
      "image/png": "[encoded data removed]",
      "text/plain": [
       "<matplotlib.figure.Figure at 0x74fa4a8>"
      ]
     },
     "metadata": {},
     "output_type": "display_data"
    }
   ],
   "source": [
    "plt.imshow(np.transpose(np.reshape(np.mean(Q,1),[g.size,g.size])))\n",
    "plt.show()"
   ]
  },
  {
   "cell_type": "code",
   "execution_count": null,
   "metadata": {},
   "outputs": [],
   "source": []
  }
 ],
 "metadata": {
  "kernelspec": {
   "display_name": "Python [py34]",
   "language": "python",
   "name": "Python [py34]"
  },
  "language_info": {
   "codemirror_mode": {
    "name": "ipython",
    "version": 3
   },
   "file_extension": ".py",
   "mimetype": "text/x-python",
   "name": "python",
   "nbconvert_exporter": "python",
   "pygments_lexer": "ipython3",
   "version": "3.4.5"
  }
 },
 "nbformat": 4,
 "nbformat_minor": 2
}
